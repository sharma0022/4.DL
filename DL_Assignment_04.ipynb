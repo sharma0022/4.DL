{
  "nbformat": 4,
  "nbformat_minor": 0,
  "metadata": {
    "colab": {
      "provenance": [],
      "authorship_tag": "ABX9TyPu6fbtgsrj9wZS+3GUFkoy",
      "include_colab_link": true
    },
    "kernelspec": {
      "name": "python3",
      "display_name": "Python 3"
    },
    "language_info": {
      "name": "python"
    }
  },
  "cells": [
    {
      "cell_type": "markdown",
      "metadata": {
        "id": "view-in-github",
        "colab_type": "text"
      },
      "source": [
        "<a href=\"https://colab.research.google.com/github/Maheshkumar145/DL_Theory/blob/main/DL_Assignment_04ipynb.ipynb\" target=\"_parent\"><img src=\"https://colab.research.google.com/assets/colab-badge.svg\" alt=\"Open In Colab\"/></a>"
      ]
    },
    {
      "cell_type": "markdown",
      "source": [
        "**1.\tHow would you describe TensorFlow in a short sentence? What are its main features? Can you name other popular Deep Learning libraries?**\n",
        "\n",
        "**Ans:**TensorFlow is an open-source library developed by Google primarily for deep learning applications. \n",
        "\n",
        "* TensorFlow was originally developed for large numerical computations without \n",
        "keeping deep learning in mind.\n",
        "\n",
        "* Efficiently works with mathematical expressions involving multi-dimensional arrays.\n",
        "\n",
        "* Good support of deep neural networks and machine learning concepts.\n",
        "\n",
        "* GPU/CPU computing where the same code can be executed on both architectures.\n",
        "\n"
      ],
      "metadata": {
        "id": "p2bb3RuOAQZy"
      }
    },
    {
      "cell_type": "markdown",
      "source": [
        "**2.\tIs TensorFlow a drop-in replacement for NumPy? What are the main differences between the two?**\n",
        "\n",
        "**Ans:**No it is not a replacement for Numpy. TensorFlow is a reimplementation of the Numpy API.\n",
        "\n",
        "TensorFlow integrates a lot more functionality that is not strictly array manipulation into the library itself, like image manipulation and common neural network utilities. \n",
        "\n",
        "NumPy tends to defer that kind of things to additional libraries like SciPy, making it more of an ecosystem and less monolithic.But Numpy is faster as compare to tensorflow.\n"
      ],
      "metadata": {
        "id": "7B9WMkb6AKP6"
      }
    },
    {
      "cell_type": "markdown",
      "source": [
        "3.\tDo you get the same result with tf.range(10) and tf.constant(np.arange(10))?"
      ],
      "metadata": {
        "id": "soP8NIppAIoj"
      }
    },
    {
      "cell_type": "code",
      "source": [
        "import tensorflow as tf\n",
        "tf.range(10)"
      ],
      "metadata": {
        "colab": {
          "base_uri": "https://localhost:8080/"
        },
        "id": "0JKK_k0rY0cj",
        "outputId": "94b73b3c-6bd8-4974-e8d7-c147432596d4"
      },
      "execution_count": 2,
      "outputs": [
        {
          "output_type": "execute_result",
          "data": {
            "text/plain": [
              "<tf.Tensor: shape=(10,), dtype=int32, numpy=array([0, 1, 2, 3, 4, 5, 6, 7, 8, 9], dtype=int32)>"
            ]
          },
          "metadata": {},
          "execution_count": 2
        }
      ]
    },
    {
      "cell_type": "code",
      "source": [
        "import numpy as np\n",
        "tf.constant(np.arange(10))"
      ],
      "metadata": {
        "colab": {
          "base_uri": "https://localhost:8080/"
        },
        "id": "WZrcsr20ZFry",
        "outputId": "42f81f30-4336-4d9a-9744-f7f28306b6f9"
      },
      "execution_count": 4,
      "outputs": [
        {
          "output_type": "execute_result",
          "data": {
            "text/plain": [
              "<tf.Tensor: shape=(10,), dtype=int64, numpy=array([0, 1, 2, 3, 4, 5, 6, 7, 8, 9])>"
            ]
          },
          "metadata": {},
          "execution_count": 4
        }
      ]
    },
    {
      "cell_type": "markdown",
      "source": [
        "we will get same result but both functions are not same."
      ],
      "metadata": {
        "id": "PxdxEm9AZhkq"
      }
    },
    {
      "cell_type": "markdown",
      "source": [
        "**4.\tCan you name six other data structures available in TensorFlow, beyond regular tensors?**\n",
        "\n",
        "**Ans:** \n",
        "* BFLOAT\n",
        "* BOOL\n",
        "* COMPLEX 64\n",
        "* COMPLEX 128\n",
        "* FLOAT 16\n",
        "* FLOAT 32\n",
        "* FLOAT 64\n"
      ],
      "metadata": {
        "id": "XljgtCHwAGqt"
      }
    },
    {
      "cell_type": "markdown",
      "source": [
        "**5.\tA custom loss function can be defined by writing a function or by subclassing the keras.losses.Loss class. When would you use each option?** \n",
        "\n",
        "**Ans:** A custom loss function can be created by defining a function that takes the true values and predicted values as required parameters. The function should return an array of losses.\n",
        "\n",
        "Four most common loss functions:\n",
        "\n",
        "* Mean square error\n",
        "\n",
        "* Mean absolute error\n",
        "\n",
        "* Binary cross-entropy\n",
        "\n",
        "* Categorical cross-entropy"
      ],
      "metadata": {
        "id": "PV2M34rAAFQb"
      }
    },
    {
      "cell_type": "markdown",
      "source": [
        "**6.\tSimilarly, a custom metric can be defined in a function or a subclass of keras.metrics.Metric. When would you use each option?**\n",
        "\n",
        "**Ans:**\n",
        "\n",
        "As Function:\n",
        "\n",
        "Much like loss functions, any callable with signature metric_fn(y_true, y_pred) that returns an array of losses (one of sample in the input batch) can be passed to compile() as a metric.\n",
        "\n",
        "As subclass:\n",
        "\n",
        "Not all metrics can be called because metrics are evaluated for each batch during training and evaluation, but in some cases the average of the per-batch values is not what you are interested in.Let's say that you want to compute AUC over a given evaluation dataset: the average of the per-batch AUC values isn't the same as the AUC over the entire dataset.\n",
        "\n",
        "For such metrics, you're going to want to subclass the Metric class, which can maintain a state across batches. It's easy:\n",
        "\n",
        "Create the state variables in __init__\n",
        "\n",
        "Update the variables given y_true and y_pred in update_state()\n",
        "\n",
        "Return the scalar metric result in result()\n",
        "\n",
        "Clear the state in reset_states()"
      ],
      "metadata": {
        "id": "_r7gtEMAADx0"
      }
    },
    {
      "cell_type": "markdown",
      "source": [
        "**7.\tWhen should you create a custom layer versus a custom model?**\n",
        "\n",
        "**Ans:** If you are building a new model architecture using existing keras/tf layers then build a custom model. \n",
        "\n",
        "If you are implementing your own custom tensor operations with in a layer, then build a custom layer."
      ],
      "metadata": {
        "id": "zlpNduGCABu7"
      }
    },
    {
      "cell_type": "markdown",
      "source": [
        "**8.\tWhat are some use cases that require writing your own custom training loop?**\n",
        "\n",
        "**Ans:** If you want to use different optimizer and loss function to increase the efficiency then you have to write your own custom training loop."
      ],
      "metadata": {
        "id": "gofeJkjrAAc7"
      }
    },
    {
      "cell_type": "markdown",
      "source": [
        "**9.\tCan custom Keras components contain arbitrary Python code, or must they be convertible to TF Functions?**\n",
        "\n",
        "**Ans:** They should be convertible to TF Functions. If you need to use arbitrary Python code, wrap it in tf"
      ],
      "metadata": {
        "id": "FprAzzSm__DM"
      }
    },
    {
      "cell_type": "markdown",
      "source": [
        "**10.\tWhat are the main rules to respect if you want a function to be convertible to a TF Function?**\n",
        "\n",
        "**Ans:**\n",
        "\n",
        "* Debug in eager mode, then decorate with @tf. function .\n",
        "\n",
        "* Don't rely on Python side effects like object mutation or list appends.\n",
        "\n",
        "* tf.function works best with TensorFlow ops; NumPy and Python calls are converted to constants."
      ],
      "metadata": {
        "id": "axaLttjP_9Rb"
      }
    },
    {
      "cell_type": "markdown",
      "source": [
        "**11.\tWhen would you need to create a dynamic Keras model? How do you do that? Why not make all your models dynamic?**\n",
        "\n",
        "**Ans:**A dynamic Keras model is trained online. That is, data is continually entering the system and we're incorporating that data into the model through continuous updates."
      ],
      "metadata": {
        "id": "KY6K0aT5_7ct"
      }
    }
  ]
}
